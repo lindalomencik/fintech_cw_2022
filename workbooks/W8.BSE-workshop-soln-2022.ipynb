{
 "cells": [
  {
   "cell_type": "markdown",
   "metadata": {
    "pycharm": {
     "name": "#%% md\n"
    },
    "tags": []
   },
   "source": [
    "# <center> BSE Workshop Activity - WITH SOLUTIONS </center>\n",
    "<center> Theodoros Constantinides </center>"
   ]
  },
  {
   "cell_type": "markdown",
   "metadata": {},
   "source": [
    "In this worksheet, we explore BSE code in more depth. In particular, we focus on how to configure market experiemnts. \n",
    "\n",
    "BSE.py is a large file and it can be daunting when you first look at the code. This worksheet aims to give you a primer into the main code sections so that you can quickly get started working with BSE. \n",
    "\n",
    "BSE is simulation of a limit order book (LOB) exchange. There are a number of trading algorithms already built in and it provides a wide range of customizations to suit a large variety of experiments.\n",
    "\n",
    "At a high level, BSE works as follows. First, you set a number of configuration parameters (specifying the trading agents in the market, the demand and supply in the market, and how demand and supply is allocated over time) that describe the experiment you want to conduct. You then ask BSE to simulate a number of market sessions that follow those configuration parameters. BSE's simulation will produce a number of output files that result from these simulated trading sessions. Data in these output files can then be analysed.  \n",
    "\n",
    "In this worksheet we will walk you through the three main experiment configuration steps:\n",
    "+ [specifying traders](#specifying-traders)\n",
    "+ [specifying supply and demand](#specifying-supply-and-demand-curves)\n",
    "+ [specifying order schedules](#order-schedule)\n",
    "\n",
    "We then look at more complicated configurations with [market shocks](#market-shocks) and [dynamic markets](#dynamic-markets). \n",
    "\n",
    "Finally, we provide a summary and some signposting of the main sections of the BSE.py code in section [Code Exploration](#code-exploration)."
   ]
  },
  {
   "cell_type": "markdown",
   "metadata": {
    "tags": []
   },
   "source": [
    "## Getting started "
   ]
  },
  {
   "cell_type": "markdown",
   "metadata": {},
   "source": [
    "__IMPORTANT INFORMATION__: This worksheet requires __BSE.py__\n",
    "\n",
    "> + Download latest version (v1.7.1) of BSE from GitHub here: https://github.com/davecliff/BristolStockExchange/releases. \n",
    "\n",
    "> + Place file BSE.py in the __same folder__ as this Jupyter Notebook so that you can import BSE functions. Otherwise the code in this notebook will not work. Python will throw a **`ModuleNotFoundError: No module named 'BSE'`**\n",
    "\n",
    "> + For full details on using BSE, refer to the [BSE wiki](https://github.com/davecliff/BristolStockExchange/wiki).\n",
    "\n"
   ]
  },
  {
   "cell_type": "markdown",
   "metadata": {},
   "source": [
    "## Preliminaries: Helper functions for plotting"
   ]
  },
  {
   "cell_type": "markdown",
   "metadata": {},
   "source": [
    "To help you work with BSE, we first create some new helper functions for plotting what is happening \"under the hood\". \n",
    "\n",
    "We introduce the following helper functions:\n",
    "\n",
    "> `plot_trades(trial_id)` <br>\n",
    ">> plot trades of a single experiment. Pass name of experiment as string `trial_id`.\n",
    "\n",
    "> `n_runs_plot_trades(n, trial_id, start_time, end_time, traders_spec, order_sched)` <br>\n",
    ">> run an experiment `n` times and plot all trades. Pass `start_time` and `end_time` in seconds, `traders_spec` specification of traders, and `order_sched` order schedule.\n",
    "\n",
    "> `plot_sup_dem(seller_num, sup_ranges, buyer_num, dem_ranges, stepmode)` <br>\n",
    ">> plot supply and demand curves. Where:\n",
    ">> + `seller_num`  is the number of sellers, \n",
    ">> + `sup_ranges` is the min-max price range for sellers, \n",
    ">> + `buyer_num` is the number of buyers,  \n",
    ">> + `dem_ranges` is the min-max price range for buyers, and \n",
    ">> + `stepmode` indicates how prices are distributed across the min-max range (options = 'fixed', 'jittered', 'random').\n",
    "\n",
    "> `plot_offset_fn(offset_fn, total_time_seconds)` <br>\n",
    ">> plot demand/supply offset, where `offset_fn` is offset function and `total_time_seconds` is time period to plot in seconds \n",
    "\n",
    "\n",
    "At this point in time, you do not need to understand the code below. First we import some libraries for plotting, we import code from BSE.py, and then we define some methods for plotting demand and supply, and trades. \n",
    "\n",
    "Run the code below so that these functions are available to you later. Then move on to the next section. \n",
    "\n",
    "Remember that you must have a copy of BSE.py in the same folder as this Jupyter notebook, otherwise when you run the code below you will receive error message: **`ModuleNotFoundError`: No module named 'BSE'`**."
   ]
  },
  {
   "cell_type": "code",
   "execution_count": 1,
   "metadata": {},
   "outputs": [],
   "source": [
    "# Initial Setup:\n",
    "# Import all the libraries we need\n",
    "\n",
    "import matplotlib.pyplot as plt\n",
    "import numpy as np\n",
    "import csv\n",
    "import math\n",
    "import random\n",
    "\n",
    "from BSE import market_session\n",
    "\n",
    "# The next are helper functions that you will use later, if they don't make \n",
    "# much sense now, don't worry too much about it they will become clearer later:\n",
    "\n",
    "# Use this to plot trades of a single experiment\n",
    "def plot_trades(trial_id):\n",
    "    prices_fname = trial_id + '_tape.csv'\n",
    "    x = np.empty(0)\n",
    "    y = np.empty(0)\n",
    "    with open(prices_fname, newline='') as csvfile:\n",
    "        reader = csv.reader(csvfile)\n",
    "        for row in reader:\n",
    "            time = float(row[1])\n",
    "            price = float(row[2])\n",
    "            x = np.append(x,time)\n",
    "            y = np.append(y,price)\n",
    "\n",
    "    plt.plot(x, y, 'x', color='black') \n",
    "    \n",
    "# Use this to run an experiment n times and plot all trades\n",
    "def n_runs_plot_trades(n, trial_id, start_time, end_time, traders_spec, order_sched):\n",
    "    x = np.empty(0)\n",
    "    y = np.empty(0)\n",
    "\n",
    "    for i in range(n):\n",
    "        trialId = trial_id + '_' + str(i)\n",
    "        tdump = open(trialId + '_avg_balance.csv','w')\n",
    "\n",
    "        market_session(trialId, start_time, end_time, traders_spec, order_sched, tdump, True, False)\n",
    "        \n",
    "        tdump.close()\n",
    "\n",
    "        with open(trialId + '_tape.csv', newline='') as csvfile:\n",
    "            reader = csv.reader(csvfile)\n",
    "            for row in reader:\n",
    "                time = float(row[1])\n",
    "                price = float(row[2])\n",
    "                x = np.append(x,time)\n",
    "                y = np.append(y,price)\n",
    "\n",
    "    plt.plot(x, y, 'x', color='black');\n",
    "\n",
    "# !!! Don't use on it's own   \n",
    "def getorderprice(i, sched, n, mode):\n",
    "    pmin = min(sched[0][0], sched[0][1])\n",
    "    pmax = max(sched[0][0], sched[0][1])\n",
    "    prange = pmax - pmin\n",
    "    stepsize = prange / (n - 1)\n",
    "    halfstep = round(stepsize / 2.0)\n",
    "\n",
    "    if mode == 'fixed':\n",
    "        orderprice = pmin + int(i * stepsize)\n",
    "    elif mode == 'jittered':\n",
    "        orderprice = pmin + int(i * stepsize) + random.randint(-halfstep, halfstep)\n",
    "    elif mode == 'random':\n",
    "        if len(sched) > 1:\n",
    "            # more than one schedule: choose one equiprobably\n",
    "            s = random.randint(0, len(sched) - 1)\n",
    "            pmin = min(sched[s][0], sched[s][1])\n",
    "            pmax = max(sched[s][0], sched[s][1])\n",
    "        orderprice = random.randint(pmin, pmax)\n",
    "    return orderprice    \n",
    "\n",
    "# !!! Don't use on it's own\n",
    "def make_supply_demand_plot(bids, asks):\n",
    "    # total volume up to current order\n",
    "    volS = 0\n",
    "    volB = 0\n",
    "\n",
    "    fig, ax = plt.subplots()\n",
    "    plt.ylabel('Price')\n",
    "    plt.xlabel('Quantity')\n",
    "    \n",
    "    pr = 0\n",
    "    for b in bids:\n",
    "        if pr != 0:\n",
    "            # vertical line\n",
    "            ax.plot([volB,volB], [pr,b], 'r-')\n",
    "        # horizontal lines\n",
    "        line, = ax.plot([volB,volB+1], [b,b], 'r-')\n",
    "        volB += 1\n",
    "        pr = b\n",
    "    if bids:\n",
    "        line.set_label('Demand')\n",
    "        \n",
    "    pr = 0\n",
    "    for s in asks:\n",
    "        if pr != 0:\n",
    "            # vertical line\n",
    "            ax.plot([volS,volS], [pr,s], 'b-')\n",
    "        # horizontal lines\n",
    "        line, = ax.plot([volS,volS+1], [s,s], 'b-')\n",
    "        volS += 1\n",
    "        pr = s\n",
    "    if asks:\n",
    "        line.set_label('Supply')\n",
    "        \n",
    "    if bids or asks:\n",
    "        plt.legend()\n",
    "    plt.show()\n",
    "\n",
    "# Use this to plot supply and demand curves from supply and demand ranges and stepmode\n",
    "def plot_sup_dem(seller_num, sup_ranges, buyer_num, dem_ranges, stepmode):\n",
    "    asks = []\n",
    "    for s in range(seller_num):\n",
    "        asks.append(getorderprice(s, sup_ranges, seller_num, stepmode))\n",
    "    asks.sort()\n",
    "    bids = []\n",
    "    for b in range(buyer_num):\n",
    "        bids.append(getorderprice(b, dem_ranges, buyer_num, stepmode))\n",
    "    bids.sort()\n",
    "    bids.reverse()\n",
    "    \n",
    "    make_supply_demand_plot(bids, asks) \n",
    "\n",
    "# plot sorted trades, useful is some situations - won't be used in this worksheet\n",
    "def in_order_plot(trial_id):\n",
    "    prices_fname = trial_id + '_tape.csv'\n",
    "    y = np.empty(0)\n",
    "    with open(prices_fname, newline='') as csvfile:\n",
    "        reader = csv.reader(csvfile)\n",
    "        for row in reader:\n",
    "            price = float(row[2])\n",
    "            y = np.append(y,price)\n",
    "    y = np.sort(y)\n",
    "    x = list(range(len(y)))\n",
    "\n",
    "    plt.plot(x, y, 'x', color='black')   \n",
    "\n",
    "# plot offset function\n",
    "def plot_offset_fn(offset_fn, total_time_seconds):   \n",
    "    x = list(range(total_time_seconds))\n",
    "    offsets = []\n",
    "    for i in range(total_time_seconds):\n",
    "        offsets.append(offset_fn(i))\n",
    "    plt.plot(x, offsets, 'x', color='black')  "
   ]
  },
  {
   "cell_type": "markdown",
   "metadata": {
    "tags": []
   },
   "source": [
    "### Specifying Traders "
   ]
  },
  {
   "cell_type": "markdown",
   "metadata": {},
   "source": [
    "BSE allows us to populate the market with as many buyers or sellers as we want. We can also specify the trading strategy that each buyer and seller will use. We do this as follows:\n",
    "\n",
    "\n",
    "**Trader types**: <br>\n",
    "There are a selection of trading robots available in BSE, and more can be easily added. Strings that indicate the names of robots include \"ZIP\", \"ZIC\", \"SHVR\", \"GVWY\", \"SNPR\", \"PRZI\", \"PRSH\", \"PRDE\". For full details on BSE trading robots, read the [wiki link here](https://github.com/davecliff/BristolStockExchange/wiki/3.-Trading-Robots). \n",
    "\n",
    "**Buyer and seller specifications**: <br>\n",
    "Buyer and seller specifications are **lists of tuples**. Each tuple specifies a trader type and the number of traders of that type that should be present in the market. This is defined as `(trader_type, trader_number)` where `trader_type` is a string that represents a type of trader and `trader_number` is an integer that defines how many traders of that type should exist. Appending multiple tuples in one of the lists will populate the market with all the trader types specified in each tuple.\n",
    "\n",
    "For example, if we want to specify that there should be 5 buyers of type ZIC, we would write:\n",
    "> `buyers_spec=[('ZIC',5)]` \n",
    "\n",
    "**Trader specification**:<br>\n",
    "The trader specifications is a **dictionary**. Dictionaries contain key-value pairs. The trader specification dictionary contains 2 pairs, one with **key \"sellers\"** and another with **key \"buyers\"**. These keys should match with the buyer and seller specifications we want for our experiment. For details on setting up trader specifications, see [wiki link here](https://github.com/davecliff/BristolStockExchange/wiki/5.-Comparing-different-robot-traders).\n",
    "\n",
    "So, once we have defined our buyers specification and our sellers specification, we would write:\n",
    "> `traders_spec = {'sellers':sellers_spec, 'buyers':buyers_spec}`\n",
    "\n"
   ]
  },
  {
   "cell_type": "markdown",
   "metadata": {},
   "source": [
    "Let's try it for ourselves... \n",
    "\n",
    "Example 1. Define a market that contains an equal amount of buyers and sellers (10 on each side) all being of type ZIC. "
   ]
  },
  {
   "cell_type": "code",
   "execution_count": 2,
   "metadata": {},
   "outputs": [],
   "source": [
    "# Solution:\n",
    "sellers_spec = [('ZIC', 10)]\n",
    "buyers_spec = sellers_spec\n",
    "traders_spec = {'sellers':sellers_spec, 'buyers':buyers_spec}"
   ]
  },
  {
   "cell_type": "markdown",
   "metadata": {},
   "source": [
    "Example 2. Now define a similar market, but this time with half of the sellers and buyers being of type ZIC and the other half of type ZIP."
   ]
  },
  {
   "cell_type": "code",
   "execution_count": 3,
   "metadata": {},
   "outputs": [],
   "source": [
    "# Solution:\n",
    "sellers_spec = [('ZIC', 5), ('ZIP', 5)]\n",
    "buyers_spec = sellers_spec\n",
    "traders_spec = {'sellers':sellers_spec, 'buyers':buyers_spec}"
   ]
  },
  {
   "cell_type": "markdown",
   "metadata": {
    "tags": []
   },
   "source": [
    "### Specifying Supply and Demand Curves"
   ]
  },
  {
   "cell_type": "markdown",
   "metadata": {},
   "source": [
    "Here we will see how to set the supply and demand curves that provide orders to our traders. First, we will create a market with symmetric supply and demand curves with minimum price of 50 and maximum price of 150. The step-size will be fixed."
   ]
  },
  {
   "cell_type": "markdown",
   "metadata": {},
   "source": [
    "To keep things simple, here we will consider static markets, where the supply and demand curves remain __constant__ throughout the experiment. Later, we consider more complicated markets: [market shocks](#market-shocks) and [dynamic markets](#dynamic-markets)."
   ]
  },
  {
   "cell_type": "markdown",
   "metadata": {
    "tags": []
   },
   "source": [
    "#### Supply and Demand Ranges "
   ]
  },
  {
   "cell_type": "markdown",
   "metadata": {},
   "source": [
    "To do this, we need to set the **supply and demand ranges**. These ranges in BSE are represented as **tuples**. There are a few options (we will look more into this later on), but the simplest one is to have a fixed range. To do this we need to provide a tuple that contains just two number the minimum and the maximum allowed prices, i.e., `(min, max)`. \n",
    "See [BSE wiki on supply and demand](https://github.com/davecliff/BristolStockExchange/wiki/4.-Altering-the-market-supply-and-demand) for more details.\n",
    "\n",
    "Now, write code to set the ranges for supply and demand for the experiment we defined earlier:"
   ]
  },
  {
   "cell_type": "code",
   "execution_count": 4,
   "metadata": {},
   "outputs": [],
   "source": [
    "# Solution:\n",
    "sup_range = (50, 150)\n",
    "dem_range = sup_range"
   ]
  },
  {
   "cell_type": "markdown",
   "metadata": {
    "tags": []
   },
   "source": [
    "#### Supply and Demand Schedules "
   ]
  },
  {
   "cell_type": "markdown",
   "metadata": {},
   "source": [
    "Now that we have our ranges, we can set the **supply and demand schedules**. Supply and demand schedules in BSE are represented as **lists of dictionaries**. Initially, we will only focus on the case where we have just 1 dictionary in each list but later on we will see what happens if we add more. \n",
    "\n",
    "A dictionary for a supply or a demand schedule should contain 4 keys, namely **\"from\", \"to\", \"ranges\"** and **\"stepmode\"**. \n",
    "- Starting with \"ranges\", this is a **list of ranges (tuples)** like the ones we just created. For now we will only look at the case where there is a single range in the list and later we will see more advanced configuration options where we supply multiple of these. \n",
    "- \"from\" and \"end\" are numbers representing seconds. \"from\" is the time to start using this schedule and should be set to 0 for now. Similarly \"to\" is the time to stop using this schedule and should be initially set to the maximum time that our simulation will take (in this case let's set it to 10 minutes). \n",
    "- The last thing we need to define, is the \"stepmode\" which is represented as a string. This tells BSE how to space out the orders it will give to traders. There are 3 stepmodes build into BSE, namely **\"fixed\", \"jittered\"** and **\"random\"**: \n",
    "    - `'stepmode': 'fixed'` gives orders that are spaced equally, producing supply or demand curves that have steps of fixed size, i.e. there is a constant difference between successive prices - note that the actual step-size is determined by the number of buyers for demand and sellers for supply; \n",
    "    - `'stepmode': 'jittered'` starts with a fixed stepmode but then randomly adjusts each order allowing each to deviate by at most half a step upwards or downwards, simulating random noise;\n",
    "    - `'stepmode': 'random'` assigns each trader an order which is set at random within the specified range\n",
    "\n",
    "For our market simulation, let's use a fixed stepmode since we want a fixed step-size. Define the supply and demand schedules:"
   ]
  },
  {
   "cell_type": "code",
   "execution_count": 5,
   "metadata": {},
   "outputs": [],
   "source": [
    "# Solution:\n",
    "start_time = 0\n",
    "end_time = 60 * 10\n",
    "supply_schedule = [{'from': start_time, 'to': end_time, 'ranges': [sup_range], 'stepmode': 'fixed'}]\n",
    "demand_schedule = [{'from': start_time, 'to': end_time, 'ranges': [dem_range], 'stepmode': 'fixed'}]"
   ]
  },
  {
   "cell_type": "markdown",
   "metadata": {},
   "source": [
    "You can use the provided `plot_sup_dem` function that we defined earlier (at the top of this worksheet) to print the supply and demand curves of experiments.\n",
    "\n",
    "Run the code below:"
   ]
  },
  {
   "cell_type": "code",
   "execution_count": 6,
   "metadata": {},
   "outputs": [
    {
     "data": {
      "image/png": "[encoded data removed]",
      "text/plain": [
       "<Figure size 432x288 with 1 Axes>"
      ]
     },
     "metadata": {
      "needs_background": "light"
     },
     "output_type": "display_data"
    }
   ],
   "source": [
    "plot_sup_dem(10, [sup_range], 10, [dem_range], 'fixed')"
   ]
  },
  {
   "cell_type": "markdown",
   "metadata": {},
   "source": [
    "You should now see demand and supply that you have configured for the market plotted above."
   ]
  },
  {
   "cell_type": "markdown",
   "metadata": {
    "tags": []
   },
   "source": [
    "### Order Schedule "
   ]
  },
  {
   "cell_type": "markdown",
   "metadata": {},
   "source": [
    "The last thing we need to define is the order schedule. The order schedule defines how orders to traders are replenished. This is the same idea as getting a new envelope in the live experiment we had in class. In BSE this can either happen simultaneously, where all traders are given new orders at the same time - exactly like we did in class, or continually where different traders are given new order at different times.\n",
    "\n",
    "The order schedule is a dictionary containing 4 key-value pairs. The corresponding keys are `'sup'`, `'dem'`, `'interval'` and `'timemode'`.\n",
    "\n",
    "- Sup and dem, should match the supply and demand schedules we want to use in our experiment (defined above);\n",
    "- Interval is a number, that defines the number of seconds that the order schedule takes to cycle through all the traders and supply them with new orders;\n",
    "- Timemode is a string that defines the method in which traders are re-supplied with orders and can be one of the following:\n",
    "    - `'timemode': 'periodic'`: where all the traders are given new orders periodically at the same time (at the beginning of every interval)\n",
    "    - `'timemode': 'drip-fixed'`: where orders are given to traders one at a time at fixed intervals \n",
    "    - `'timemode': 'drip-jitter'`: similar to the previous but the intervals are not fixed, thus this can be thought of as having a drip-fixed timemode with some added random noise\n",
    "    - `'timemode': 'drip-poisson.`: where new orders arrive at intervals modeled with a poisson distribution\n",
    "    \n",
    "BSE makes sure that all traders are supplied with a new order once in the specified interval even if continues (\"drip\") timemodes are used. This can however be relaxed.\n",
    "\n",
    "Let's define our own order schedule, using a 60 second interval and a periodic order replenishment:"
   ]
  },
  {
   "cell_type": "code",
   "execution_count": 7,
   "metadata": {},
   "outputs": [],
   "source": [
    "# Solution:\n",
    "order_interval = 60\n",
    "order_sched = {'sup': supply_schedule, 'dem': demand_schedule,\n",
    "               'interval': order_interval, 'timemode': 'periodic'}"
   ]
  },
  {
   "cell_type": "markdown",
   "metadata": {
    "tags": []
   },
   "source": [
    "### Market Session"
   ]
  },
  {
   "cell_type": "markdown",
   "metadata": {},
   "source": [
    "We have now defined all the things we need to run a market session!\n",
    "\n",
    "To run a market session, we need to call the **market_session** function. This function take in a lot of arguments:\n",
    "\n",
    "- The `session_id` which is a string used to identify the experiment we are going to run;\n",
    "- The `start_time` and `end_time` which are numbers that represent the start and end times of our experiment (in seconds);\n",
    "- The trader specification we want for our experiment (`traders_spec`);\n",
    "- The order schedule we want for our experiment (`order_sched`);\n",
    "- A file `tdump` where BSE will write data regarding the market session - we will consider data output in more detail later in this notebook;\n",
    "- A boolean flag `dump_all` that tells BSE whether or not to produce detailed data files;\n",
    "- Another boolean flag `verbose` that tells BSE whether or not to produce output on the terminal during the run of the session (can be useful for debugging)\n",
    "\n",
    "The following code will run one market session with the specified configuration we defined in the previous cells. Results will be saved in a csv file called `test_1_avg_balance.csv` ..."
   ]
  },
  {
   "cell_type": "code",
   "execution_count": 8,
   "metadata": {},
   "outputs": [],
   "source": [
    "trial_id = 'test_1'\n",
    "tdump = open('test_1_avg_balance.csv','w')\n",
    "dump_all = False\n",
    "verbose = False\n",
    "\n",
    "market_session(trial_id, start_time, end_time, traders_spec, order_sched, tdump, dump_all, verbose)\n",
    "\n",
    "tdump.close()"
   ]
  },
  {
   "cell_type": "markdown",
   "metadata": {},
   "source": [
    "Open `test_1_avg_balance.csv` and look at the data inside. What do you think these represent?\n",
    "\n",
    "Let's now run the same code as before, but this time with `dump_all` flag set `True` ..."
   ]
  },
  {
   "cell_type": "code",
   "execution_count": 9,
   "metadata": {},
   "outputs": [],
   "source": [
    "trial_id = 'test_1'\n",
    "tdump = open('test_1_avg_balance2.csv','w')\n",
    "dump_all = True\n",
    "verbose = False\n",
    "\n",
    "market_session(trial_id, start_time, end_time, traders_spec, order_sched, tdump, dump_all, verbose)\n",
    "\n",
    "tdump.close()"
   ]
  },
  {
   "cell_type": "markdown",
   "metadata": {},
   "source": [
    "If you take a look at your folder now, you will see that the market session produced 3 csv files.\n",
    "\n",
    "Let's start with `test_1_avg_balance2.csv`, this is similar to `test_1_avg_balance.csv` but it contains a lot more rows. \n",
    "\n",
    "In both files, each row starts with the session id and the time (in seconds, relative to the experiment) at which the data is written to the file. \n",
    "\n",
    "**Question**: Given this, how are the 2 files different?"
   ]
  },
  {
   "cell_type": "markdown",
   "metadata": {
    "tags": []
   },
   "source": [
    "###### Solution:\n",
    "\n",
    "    When dump_all is set to false, we only write to the file only once at the end. \n",
    "    In the case where it set to true, we write to the file every time a trade occurred (we will look at the code in more detail later)."
   ]
  },
  {
   "cell_type": "markdown",
   "metadata": {
    "tags": []
   },
   "source": [
    "\n",
    "The following two columns are the current best bid and best offer in the LOB (or `'None'` if they're undefined).\n",
    "\n",
    "Then, there follows 4 columns for each trader type in the system (i.e. if there's only one trader type, there will be 4 columns, if there are 2 trader types then there will be 8 columns, etc.). Respectively, the 4 columns are: the trader type, the total profit for the traders of this type, the number of traders of this type, and finally the average profit per trader of this type.\n",
    "\n",
    "Additionally, when the dump_all flag is set, BSE produces 2 additional csv files. \n",
    "\n",
    "One (test_1_tape.csv in this case) includes all the trades that took place writing each on a single line with the second column being the time the trade took place and the second the price of the trade. This is basically the tape of the exchange.\n",
    "\n",
    "The other (test_1_blotters.csv in this case) saves the blotter of each trader (the blotter stores the details regarding the trades the trader was involved in). For each trader (both buyers and sellers) there is one line with the trader's id and the amount of items in it's blotter. Then for every item in it's blotter, a line is printed with the trader's id and the blotter item. Each blotter item contains the time the trade took place, the price, the id of the buyer, the id of the seller, and the quantity traded (which is always 1 in this version of BSE).\n",
    "\n",
    "We can use the transactions csv file to plot a graph of the trades that took place using the first provided `plot_trades` function..."
   ]
  },
  {
   "cell_type": "code",
   "execution_count": 10,
   "metadata": {},
   "outputs": [
    {
     "data": {
      "image/png": "[encoded data removed]",
      "text/plain": [
       "<Figure size 432x288 with 1 Axes>"
      ]
     },
     "metadata": {
      "needs_background": "light"
     },
     "output_type": "display_data"
    }
   ],
   "source": [
    "plot_trades('test_1')"
   ]
  },
  {
   "cell_type": "markdown",
   "metadata": {
    "tags": []
   },
   "source": [
    "### Static Market Sessions"
   ]
  },
  {
   "cell_type": "markdown",
   "metadata": {},
   "source": [
    "Now let's try to put everything together. Let's try to configure the following market experiments:"
   ]
  },
  {
   "cell_type": "markdown",
   "metadata": {},
   "source": [
    "1) A market that runs for 3 minutes and is populated with 10 ZIP buyers and 10 ZIP sellers. The supply and demand curves should have steps with regular intervals, minimum value at 100, and maximum value at 200. All traders should be resupplied with a new order at the same time every 10 seconds. Plot the supply and demand curves along with your results."
   ]
  },
  {
   "cell_type": "code",
   "execution_count": 11,
   "metadata": {},
   "outputs": [
    {
     "data": {
      "image/png": "[encoded data removed]",
      "text/plain": [
       "<Figure size 432x288 with 1 Axes>"
      ]
     },
     "metadata": {
      "needs_background": "light"
     },
     "output_type": "display_data"
    },
    {
     "data": {
      "image/png": "[encoded data removed]",
      "text/plain": [
       "<Figure size 432x288 with 1 Axes>"
      ]
     },
     "metadata": {
      "needs_background": "light"
     },
     "output_type": "display_data"
    }
   ],
   "source": [
    "# Solution\n",
    "\n",
    "# First, configure the trader specifications\n",
    "sellers_spec = [('ZIP', 10)]\n",
    "buyers_spec = sellers_spec\n",
    "traders_spec = {'sellers':sellers_spec, 'buyers':buyers_spec}\n",
    "\n",
    "# Next, confiure the supply and demand (and plot it)\n",
    "sup_range = (100, 200)\n",
    "dem_range = sup_range\n",
    "\n",
    "plot_sup_dem(10, [sup_range], 10, [dem_range], 'fixed')\n",
    "\n",
    "# Next, configure order schedules\n",
    "\n",
    "start_time = 0\n",
    "end_time = 60 * 3\n",
    "supply_schedule = [{'from': start_time, 'to': end_time, 'ranges': [sup_range], 'stepmode': 'fixed'}]\n",
    "demand_schedule = [{'from': start_time, 'to': end_time, 'ranges': [dem_range], 'stepmode': 'fixed'}]\n",
    "\n",
    "order_interval = 10\n",
    "order_sched = {'sup': supply_schedule, 'dem': demand_schedule,\n",
    "               'interval': order_interval, 'timemode': 'periodic'}\n",
    "\n",
    "trial_id = 'test_2'\n",
    "tdump = open('test_2_avg_balance.csv','w')\n",
    "dump_all = True\n",
    "verbose = False\n",
    "\n",
    "# Now, run the market session\n",
    "market_session(trial_id, start_time, end_time, traders_spec, order_sched, tdump, dump_all, verbose)\n",
    "\n",
    "tdump.close()\n",
    "\n",
    "# Finally, plot the trades that executed during the market session\n",
    "plot_trades('test_2')"
   ]
  },
  {
   "cell_type": "markdown",
   "metadata": {},
   "source": [
    "2) A market that runs for 5 minutes and is populated with 12 buyers (3 each of types ZIP, ZIC, SHVR, and GVWY) and 12 sellers (3 each of type of type ZIP, SHVR, GVWY, and SNPR). The supply curve should have a minimum value at 100 and a maximum value at 200 and the demand curve should have a minimum value at 50, maximum value at 150. The step size of the demand and supply should be random. Traders should be resupplied with new orders continuously at fixed intervals with some noise and a re-supply cycle of 30 seconds. Plot the supply and demand curves along with your results."
   ]
  },
  {
   "cell_type": "code",
   "execution_count": 12,
   "metadata": {},
   "outputs": [
    {
     "data": {
      "image/png": "[encoded data removed]",
      "text/plain": [
       "<Figure size 432x288 with 1 Axes>"
      ]
     },
     "metadata": {
      "needs_background": "light"
     },
     "output_type": "display_data"
    },
    {
     "data": {
      "image/png": "[encoded data removed]",
      "text/plain": [
       "<Figure size 432x288 with 1 Axes>"
      ]
     },
     "metadata": {
      "needs_background": "light"
     },
     "output_type": "display_data"
    }
   ],
   "source": [
    "# Solution\n",
    "sellers_spec = [('ZIP', 3), ('SHVR', 3), ('GVWY', 3), ('SNPR', 3)]\n",
    "num_sellers = 12\n",
    "buyers_spec = [('ZIP', 3), ('ZIC', 3), ('SHVR', 3), ('GVWY', 3)]\n",
    "num_buyers = 12\n",
    "traders_spec = {'sellers':sellers_spec, 'buyers':buyers_spec}\n",
    "\n",
    "sup_range = (100, 200)\n",
    "dem_range = (50, 150)\n",
    "\n",
    "plot_sup_dem(num_sellers, [sup_range], num_buyers, [dem_range], 'random')\n",
    "\n",
    "start_time = 0\n",
    "end_time = 60 * 5\n",
    "supply_schedule = [{'from': start_time, 'to': end_time, 'ranges': [sup_range], 'stepmode': 'random'}]\n",
    "demand_schedule = [{'from': start_time, 'to': end_time, 'ranges': [dem_range], 'stepmode': 'random'}]\n",
    "\n",
    "order_interval = 30\n",
    "order_sched = {'sup': supply_schedule, 'dem': demand_schedule,\n",
    "               'interval': order_interval, 'timemode': 'drip-jitter'}\n",
    "\n",
    "trial_id = 'test_3'\n",
    "tdump = open('test_3_avg_balance.csv','w')\n",
    "dump_all = True\n",
    "verbose = False\n",
    "\n",
    "market_session(trial_id, start_time, end_time, traders_spec, order_sched, tdump, dump_all, verbose)\n",
    "\n",
    "tdump.close()\n",
    "\n",
    "plot_trades('test_3')"
   ]
  },
  {
   "cell_type": "markdown",
   "metadata": {
    "tags": []
   },
   "source": [
    "### Advanced Static Markets "
   ]
  },
  {
   "cell_type": "markdown",
   "metadata": {},
   "source": [
    "The previous section covered everything you need to set up most static markets. In this section, we will see a method that creates a static market that is a little more complex. \n",
    "\n",
    "If you remember when we defined [supply and demand schedules](#specifying-supply-and-demand-curves) before, we said that the schedule dictionary has key `ranges` which is a list of tuples. However, we only looked at the case where we provided only one range tuple.\n",
    "\n",
    "If the stepmode is set to random, we can actually provide multiple ranges (in all other stepmodes, BSE will ignore all ranges except from the first). What this does, is that instead of having just one supply or demand range, we have multiple and one is chosen at random every time an order is issued to a trader.\n",
    "\n",
    "Try this feature out by using the previous market configuration but this time set supply and demand ranges 1-50, 100-200 and 300-350. Plot the supply and demand curves along with your results:"
   ]
  },
  {
   "cell_type": "code",
   "execution_count": 13,
   "metadata": {},
   "outputs": [
    {
     "data": {
      "image/png": "[encoded data removed]",
      "text/plain": [
       "<Figure size 432x288 with 1 Axes>"
      ]
     },
     "metadata": {
      "needs_background": "light"
     },
     "output_type": "display_data"
    },
    {
     "data": {
      "image/png": "[encoded data removed]",
      "text/plain": [
       "<Figure size 432x288 with 1 Axes>"
      ]
     },
     "metadata": {
      "needs_background": "light"
     },
     "output_type": "display_data"
    }
   ],
   "source": [
    "# Solution\n",
    "sup_ranges = [(1, 50), (100,200), (300,350)]\n",
    "dem_ranges = sup_ranges\n",
    "\n",
    "plot_sup_dem(num_sellers, sup_ranges, num_buyers, dem_ranges, 'random')\n",
    "\n",
    "supply_schedule = [{'from': start_time, 'to': end_time, 'ranges': sup_ranges, 'stepmode': 'random'}]\n",
    "demand_schedule = [{'from': start_time, 'to': end_time, 'ranges': dem_ranges, 'stepmode': 'random'}]\n",
    "\n",
    "trial_id = 'test_4'\n",
    "tdump = open('test_4_avg_balance.csv','w')\n",
    "dump_all = True\n",
    "verbose = False\n",
    "\n",
    "market_session(trial_id, start_time, end_time, traders_spec, order_sched, tdump, dump_all, verbose)\n",
    "\n",
    "tdump.close()\n",
    "\n",
    "plot_trades('test_4')"
   ]
  },
  {
   "cell_type": "markdown",
   "metadata": {
    "tags": []
   },
   "source": [
    "## Dynamic Markets"
   ]
  },
  {
   "cell_type": "markdown",
   "metadata": {},
   "source": [
    "So far, we've looked at experiments that use the same supply and demand curves for the entire duration of the experiment (what we called static markets). In this section, we will see markets with variable supply and demand curves. BSE gives us two ways to dynamically change the supply and demand curves during an experiment."
   ]
  },
  {
   "cell_type": "markdown",
   "metadata": {
    "tags": []
   },
   "source": [
    "### Market \"Shocks\""
   ]
  },
  {
   "cell_type": "markdown",
   "metadata": {},
   "source": [
    "The first way we will look at is something called a market \"shock\". What this means is that at specified points in the experiment we suddenly switch to different supply and/or demand schedules.\n",
    "\n",
    "As we saw when we defined [supply and demand schedules](#Supply-and-Demand-Schedules), each schedule is a list of dictionaries. In static markets, we used one dictionary to define a schedule for the entire duration of the market session. In order to introduce one \"shock\" to the market, we provide two dictionaries with different configurations. Care must be taken to make sure that the combination of the intervals of the two (or more) schedules covers the entire duration of the market session. For example if we have a market that runs for 100 seconds, we could have the first schedule start at 0 ('from' = 0) and finish at 70 seconds ('to' = 70) and then have the second schedule start at 70 ('from' = 70) and finish at 100 ('to' = 100)."
   ]
  },
  {
   "cell_type": "markdown",
   "metadata": {},
   "source": [
    "Let's try this using a market that runs for 10 minutes and is populated with 10 ZIP buyers and 10 ZIP sellers. The supply and demand curves should have steps with regular intervals, and initially minimum value at 50, and maximum value at 100. Then in the middle of the experiment, we introduce a \"shock\" where the minimum value of the supply and demand curves changes to min 150 and max 200. All traders should be resupplied with a new order at the same time every 15 seconds. Plotting the results should make the \"shock\" obvious."
   ]
  },
  {
   "cell_type": "code",
   "execution_count": 14,
   "metadata": {},
   "outputs": [
    {
     "data": {
      "image/png": "[encoded data removed]",
      "text/plain": [
       "<Figure size 432x288 with 1 Axes>"
      ]
     },
     "metadata": {
      "needs_background": "light"
     },
     "output_type": "display_data"
    }
   ],
   "source": [
    "# Solution\n",
    "sellers_spec = [('ZIP', 10)]\n",
    "buyers_spec = sellers_spec\n",
    "traders_spec = {'sellers':sellers_spec, 'buyers':buyers_spec}\n",
    "\n",
    "range1 = (50, 100)\n",
    "range2 = (150, 200)\n",
    "\n",
    "start_time = 0\n",
    "mid_time = 60 * 5\n",
    "end_time = 60 * 10\n",
    "supply_schedule = [{'from': start_time, 'to': mid_time, 'ranges': [range1], 'stepmode': 'fixed'},\n",
    "                   {'from': mid_time, 'to': end_time, 'ranges': [range2], 'stepmode': 'fixed'}]\n",
    "demand_schedule = supply_schedule\n",
    "\n",
    "order_interval = 15\n",
    "order_sched = {'sup': supply_schedule, 'dem': demand_schedule,\n",
    "               'interval': order_interval, 'timemode': 'periodic'}\n",
    "\n",
    "trial_id = 'test_5'\n",
    "tdump = open('test_5_avg_balance.csv','w')\n",
    "dump_all = True\n",
    "verbose = False\n",
    "\n",
    "market_session(trial_id, start_time, end_time, traders_spec, order_sched, tdump, dump_all, verbose)\n",
    "\n",
    "tdump.close()\n",
    "\n",
    "plot_trades('test_5')"
   ]
  },
  {
   "cell_type": "markdown",
   "metadata": {},
   "source": [
    "Of course, we are not confined to having just one \"shock\" in the market. BSE allows us to have as many as we want. Let's try this by having the same experiment as before but this time the supply and demand curves move from (50, 100) to (150, 200) at 3 minutes and then back to (50, 100) at 7 minutes. Again plot all trades to see the effect of the 2 shocks. "
   ]
  },
  {
   "cell_type": "code",
   "execution_count": 15,
   "metadata": {},
   "outputs": [
    {
     "data": {
      "image/png": "[encoded data removed]",
      "text/plain": [
       "<Figure size 432x288 with 1 Axes>"
      ]
     },
     "metadata": {
      "needs_background": "light"
     },
     "output_type": "display_data"
    }
   ],
   "source": [
    "# Solution\n",
    "sellers_spec = [('ZIP', 10)]\n",
    "buyers_spec = sellers_spec\n",
    "traders_spec = {'sellers':sellers_spec, 'buyers':buyers_spec}\n",
    "\n",
    "range1 = (50, 100)\n",
    "range2 = (150, 200)\n",
    "\n",
    "start_time = 0\n",
    "change1_time = 60 * 3\n",
    "change2_time = 60 * 7\n",
    "end_time = 60 * 10\n",
    "supply_schedule = [{'from': start_time, 'to': change1_time, 'ranges': [range1], 'stepmode': 'fixed'},\n",
    "                   {'from': change1_time, 'to': change2_time, 'ranges': [range2], 'stepmode': 'fixed'},\n",
    "                   {'from': change2_time, 'to': end_time, 'ranges': [range1], 'stepmode': 'fixed'}]\n",
    "demand_schedule = supply_schedule\n",
    "\n",
    "order_interval = 15\n",
    "order_sched = {'sup': supply_schedule, 'dem': demand_schedule,\n",
    "               'interval': order_interval, 'timemode': 'periodic'}\n",
    "\n",
    "trial_id = 'test_6'\n",
    "tdump = open('test_6_avg_balance.csv','w')\n",
    "dump_all = True\n",
    "verbose = False\n",
    "\n",
    "market_session(trial_id, start_time, end_time, traders_spec, order_sched, tdump, dump_all, verbose)\n",
    "\n",
    "tdump.close()\n",
    "\n",
    "plot_trades('test_6')"
   ]
  },
  {
   "cell_type": "markdown",
   "metadata": {},
   "source": [
    "### Offset Function"
   ]
  },
  {
   "cell_type": "markdown",
   "metadata": {},
   "source": [
    "The second way we can dynamically alter markets in BSE is by using offset functions. An offset function, is a function that can continuously alter the minimum and maximum values of the supply and demand curves while the experiment is running. How this works, it that the offset function is a function of time that returns a number that is added to the minimum and maximum values defined in the supply and/or demand ranges. With the current version of BSE you can find one offset function already built-in (function `schedule_offsetfn` shown below). This function produces a sine wave that grows in amplitude and reduces its wavelength as time progresses)."
   ]
  },
  {
   "cell_type": "code",
   "execution_count": 16,
   "metadata": {},
   "outputs": [],
   "source": [
    "# schedule_offsetfn returns time-dependent offset, to be added to schedule prices\n",
    "def schedule_offsetfn(t):\n",
    "    pi2 = math.pi * 2\n",
    "    c = math.pi * 3000\n",
    "    wavelength = t / c\n",
    "    gradient = 100 * t / (c / pi2)\n",
    "    amplitude = 100 * t / (c / pi2)\n",
    "    offset = gradient + amplitude * math.sin(wavelength * t)\n",
    "    return int(round(offset, 0))"
   ]
  },
  {
   "cell_type": "markdown",
   "metadata": {},
   "source": [
    "Let's plot this offset function...\n"
   ]
  },
  {
   "cell_type": "code",
   "execution_count": 17,
   "metadata": {},
   "outputs": [
    {
     "data": {
      "image/png": "[encoded data removed]",
      "text/plain": [
       "<Figure size 432x288 with 1 Axes>"
      ]
     },
     "metadata": {
      "needs_background": "light"
     },
     "output_type": "display_data"
    }
   ],
   "source": [
    "# Let's plot this offset function over a 10 minute period.\n",
    "plot_offset_fn(schedule_offsetfn, 60*10)"
   ]
  },
  {
   "cell_type": "markdown",
   "metadata": {},
   "source": [
    "We can also create our own offset function in a similar way by creating a new function that takes as input time and returns a number. For example, \"offset_1\" and \"offset_2\" are two silly non-dynamic offset functions that always return constant offset of 1 or 2:"
   ]
  },
  {
   "cell_type": "code",
   "execution_count": 18,
   "metadata": {},
   "outputs": [],
   "source": [
    "def offset_1(t):\n",
    "    return 1\n",
    "\n",
    "def offset_2(t):\n",
    "    return 2"
   ]
  },
  {
   "cell_type": "code",
   "execution_count": 19,
   "metadata": {},
   "outputs": [
    {
     "data": {
      "image/png": "[encoded data removed]",
      "text/plain": [
       "<Figure size 432x288 with 1 Axes>"
      ]
     },
     "metadata": {
      "needs_background": "light"
     },
     "output_type": "display_data"
    }
   ],
   "source": [
    "# Now plot your offset functions over a 60 seconds period\n",
    "plot_offset_fn(offset_1, 60)"
   ]
  },
  {
   "cell_type": "code",
   "execution_count": 20,
   "metadata": {},
   "outputs": [
    {
     "data": {
      "image/png": "[encoded data removed]",
      "text/plain": [
       "<Figure size 432x288 with 1 Axes>"
      ]
     },
     "metadata": {
      "needs_background": "light"
     },
     "output_type": "display_data"
    }
   ],
   "source": [
    "plot_offset_fn(offset_2, 60)"
   ]
  },
  {
   "cell_type": "markdown",
   "metadata": {},
   "source": [
    "Define your own offset function that returns an offset that is initially equal to zero and increases by 1 every 10 seconds:"
   ]
  },
  {
   "cell_type": "code",
   "execution_count": 21,
   "metadata": {},
   "outputs": [
    {
     "data": {
      "image/png": "[encoded data removed]",
      "text/plain": [
       "<Figure size 432x288 with 1 Axes>"
      ]
     },
     "metadata": {
      "needs_background": "light"
     },
     "output_type": "display_data"
    }
   ],
   "source": [
    "# Solution:\n",
    "def offset_t(t):\n",
    "    return int(round(t/10,0))\n",
    "\n",
    "# Now plot this offset function over 60 seconds period\n",
    "plot_offset_fn(offset_t, 60*10)"
   ]
  },
  {
   "cell_type": "markdown",
   "metadata": {},
   "source": [
    "To apply an offset function, we need to alter the supply and/or demand ranges. In section [supply and demand ranges](#Supply-and-Demand-Ranges) we saw how to create supply and demand ranges but we only use tuples with two numbers - the minimum and the maximum. Along with the two numbers we can provide a third item in the tuple, an offset function which will be used on both the minimum and maximum values in the range. If we want to use a different offset function for the minimum and a different one for the maximum value in a range we can also do that by providing a tuple with four items in it, the minimum value, the maximum value, the offset function that will be applied to the minimum value and the offset function to be applied to the maximum value.\n",
    "\n",
    "For example, the following creates two ranges each with a different offset applied to both the minimum and maximum value: "
   ]
  },
  {
   "cell_type": "code",
   "execution_count": 22,
   "metadata": {},
   "outputs": [
    {
     "data": {
      "image/png": "[encoded data removed]",
      "text/plain": [
       "<Figure size 432x288 with 1 Axes>"
      ]
     },
     "metadata": {
      "needs_background": "light"
     },
     "output_type": "display_data"
    }
   ],
   "source": [
    "range_offset1 = (50, 100, schedule_offsetfn)\n",
    "range_offset2 = (150, 200, offset_t)\n",
    "\n",
    "plot_offset_fn(schedule_offsetfn, 300)\n",
    "plot_offset_fn(offset_t, 300)"
   ]
  },
  {
   "cell_type": "markdown",
   "metadata": {},
   "source": [
    "Similarly, the following creates a range with two offset functions the first one applied to the minimum and the second one to the maximum:"
   ]
  },
  {
   "cell_type": "code",
   "execution_count": 23,
   "metadata": {},
   "outputs": [],
   "source": [
    "range_offset_both = (50, 100, offset_1, offset_2)"
   ]
  },
  {
   "cell_type": "markdown",
   "metadata": {},
   "source": [
    "Run a market session using the previous market configuration but this time replace range1 with range_offset1 and range2 with range_offset2. Plot the results:"
   ]
  },
  {
   "cell_type": "code",
   "execution_count": 24,
   "metadata": {
    "tags": []
   },
   "outputs": [
    {
     "data": {
      "image/png": "[encoded data removed]",
      "text/plain": [
       "<Figure size 432x288 with 1 Axes>"
      ]
     },
     "metadata": {
      "needs_background": "light"
     },
     "output_type": "display_data"
    }
   ],
   "source": [
    "# Solution\n",
    "sellers_spec = [('ZIP', 10)]\n",
    "buyers_spec = sellers_spec\n",
    "traders_spec = {'sellers':sellers_spec, 'buyers':buyers_spec}\n",
    "\n",
    "range1 = (50, 100, schedule_offsetfn)\n",
    "range2 = (150, 200, offset_t)\n",
    "\n",
    "start_time = 0\n",
    "change1_time = 60 * 3\n",
    "change2_time = 60 * 7\n",
    "end_time = 60 * 10\n",
    "supply_schedule = [{'from': start_time, 'to': change1_time, 'ranges': [range1], 'stepmode': 'fixed'},\n",
    "                   {'from': change1_time, 'to': change2_time, 'ranges': [range2], 'stepmode': 'fixed'},\n",
    "                   {'from': change2_time, 'to': end_time, 'ranges': [range1], 'stepmode': 'fixed'}]\n",
    "demand_schedule = supply_schedule\n",
    "\n",
    "order_interval = 15\n",
    "order_sched = {'sup': supply_schedule, 'dem': demand_schedule,\n",
    "               'interval': order_interval, 'timemode': 'periodic'}\n",
    "\n",
    "trial_id = 'test_6'\n",
    "tdump = open('test_6_avg_balance.csv','w')\n",
    "dump_all = True\n",
    "verbose = False\n",
    "\n",
    "market_session(trial_id, start_time, end_time, traders_spec, order_sched, tdump, dump_all, verbose)\n",
    "\n",
    "tdump.close()\n",
    "\n",
    "plot_trades('test_6')"
   ]
  },
  {
   "cell_type": "markdown",
   "metadata": {
    "tags": []
   },
   "source": [
    "# Code Exploration\n",
    "\n",
    "The current version of BSE has more than 2000 lines of code so it is easy to get lost. In this section we will see how the most important parts of BSE work. "
   ]
  },
  {
   "cell_type": "markdown",
   "metadata": {},
   "source": [
    "`__main__`\n",
    "\n",
    "You can run BSE.py from the command line terminal using the command: `python BSE.py`. If you run BSE in this way, the program will begin by entering the `__main__` function of BSE (line 2032 onwards in v1.7.1). There is some example code for configuring and running market experiments in `main`. "
   ]
  },
  {
   "cell_type": "markdown",
   "metadata": {},
   "source": [
    "`class Exchange(Orderbook)`\n",
    "\n",
    "The Exchange class is the backbone of BSE. It inherits from the Orderbook class (which itself inherits from the Orderbook_half class). We won't go into too much detail on how the exchange works as traders don't actually interact with it directly. The important thing to understand is that the exchange maintains a LOB, is able to process orders, and it keeps a list of transactions (the tape). You don't need to understand much more to work with BSE, but if you want to learn more, the most important method is \"process_order2\" and I suggest that you start from there."
   ]
  },
  {
   "cell_type": "markdown",
   "metadata": {},
   "source": [
    "`market_session`\n",
    "\n",
    "When we want to run an experiment with BSE, we configure the experiment (as we saw in detail in the previous sections) and then call the \"market_session\" function. This function is responsible for all the functionality of BSE. How it roughly works, is: \n",
    "\n",
    "- It first populates the market with traders (using the \"populate_market\" function) by instantiating them from their respective classes and gives each a unique id.\n",
    "- Then loops around until the end of the experiment. The time of the market is increased by a timestep on every iteration. One timestep is not one (market) second but is equal to a fraction of a second. The exact fraction is determined by the number of traders (e.g. for a market with 5 sellers and 5 buyers, the timestep is 1/10 of a second).\n",
    "- On every iteration:\n",
    "    - A call to the \"customer_orders\" is made. This function does one of two things. It initially creates limit orders for all traders that will be given to them in the future (remember traders are resupplied with orders based on a schedule with an interval). If it already created the orders, on future calls it checks which of those orders should be issued (based on the current time) to the traders and sends them by calling the \"add_order\" method of that trader.\n",
    "    - A trader is selected at random and the trader's \"getorder\" method is called thus allowing that trader to trade. What this means, is that the selected trader can issue a new order (which adjusts its current order if the trade has one) or can do nothing if the trader is happy with its current order (or lack of order). (Note: This trader order is different from the one given to the trader by \"customer_orders\". This one is the order the trader issues to the market while the other is the trader's private value) \n",
    "    - If the selected trader issued a new order:\n",
    "        - That order is processed by the exchange using the \"process_order2\" method. This method either returns a \"transaction_record\" indicating that the order was executed and resulted in a trade or None indicating that the order was not executed (i.e. just added to the LOB). The transaction record contains all information of a trade (time, price, involved parties etc). If the order resulted to a trade, the two traders involved are also notified using their \"bookkeep\" methods.\n",
    "        - After the order is processed, all traders are notified with the new state of the LOB (and the trade if it happened). This allows traders to adjust their strategy given the new state of the LOB.\n",
    "- Finally at the end of the session the function produces the appropriate output files."
   ]
  }
 ],
 "metadata": {
  "kernelspec": {
   "display_name": "Python 3",
   "language": "python",
   "name": "python3"
  },
  "language_info": {
   "codemirror_mode": {
    "name": "ipython",
    "version": 3
   },
   "file_extension": ".py",
   "mimetype": "text/x-python",
   "name": "python",
   "nbconvert_exporter": "python",
   "pygments_lexer": "ipython3",
   "version": "3.8.5"
  },
  "vscode": {
   "interpreter": {
    "hash": "67e12d1ba03b1da863a0f7a88335706d3655621778fa1aa37ed7a7fc2d6befec"
   }
  }
 },
 "nbformat": 4,
 "nbformat_minor": 4
}
